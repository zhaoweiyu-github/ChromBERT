{
 "cells": [
  {
   "cell_type": "markdown",
   "metadata": {},
   "source": [
    "# Example for context-specific TRN: perturbation of STARR-seq\n",
    "Inference of transcriptional regulatory networks (TRNs) at specific loci is a complex and dynamic process. In this tutorial, we will guide you through context-specific TRN analysis using ChromBERTs, using the example of modelling perturbation effect of STARR-seq.  \n",
    "\n",
    "**Attention: You should go through this [ tutorial ](https://chrombert.readthedocs.io/en/latest/tutorial_finetuning_ChromBERT.html) at first to get familiar with the basic usage of ChromBERT.**"
   ]
  },
  {
   "cell_type": "code",
   "execution_count": 1,
   "metadata": {},
   "outputs": [
    {
     "name": "stderr",
     "output_type": "stream",
     "text": [
      "/home/yangdongxu/.local/lib/python3.10/site-packages/pandas/core/arrays/masked.py:60: UserWarning: Pandas requires version '1.3.6' or newer of 'bottleneck' (version '1.3.5' currently installed).\n",
      "  from pandas.core import (\n"
     ]
    }
   ],
   "source": [
    "import  os \n",
    "os.environ[\"CUDA_VISIBLE_DEVICES\"] = \"0\" # to selected gpu used \n",
    "os.environ[\"PROTOCOL_BUFFERS_PYTHON_IMPLEMENTATION\"] = \"python\"\n",
    "import sys \n",
    "import torch \n",
    "import numpy as np \n",
    "import pandas as pd \n",
    "from tqdm import tqdm \n",
    "from matplotlib import pyplot as plt\n",
    "import chrombert\n",
    "from torchinfo import summary\n",
    "\n",
    "import scipy \n",
    "import h5py \n",
    "from sklearn.metrics.pairwise import cosine_similarity\n",
    "import lightning.pytorch as pl\n",
    "basedir =  os.path.expanduser(\"~/.cache/chrombert/data\")\n",
    "\n"
   ]
  },
  {
   "cell_type": "markdown",
   "metadata": {},
   "source": [
    "## Fine-tune"
   ]
  },
  {
   "cell_type": "markdown",
   "metadata": {},
   "source": [
    "### Dataset  \n",
    "\n",
    "The first step is to prepare the dataset. The dataset used for the perturbation task is similar to those used in other tasks, with the exception of the `perturbation_object` column, which specifies the perturbation target for each sample.  \n",
    "\n",
    "The `perturbation_object` can contain a list of data accessions joined by `;` or transcription regulator names joined by `;`. If no perturbation is applied to a sample, set it as `None` or the string `\"none\"`.  \n",
    "\n",
    "This parameter can be defined for each sample individually or applied universally to all samples in the dataset. For the latter, it should be set in the configuration file.  \n",
    "\n",
    "**Note:** Settings in the configuration will overwrite individual sample settings."
   ]
  },
  {
   "cell_type": "code",
   "execution_count": 2,
   "metadata": {},
   "outputs": [
    {
     "data": {
      "text/html": [
       "<div>\n",
       "<style scoped>\n",
       "    .dataframe tbody tr th:only-of-type {\n",
       "        vertical-align: middle;\n",
       "    }\n",
       "\n",
       "    .dataframe tbody tr th {\n",
       "        vertical-align: top;\n",
       "    }\n",
       "\n",
       "    .dataframe thead th {\n",
       "        text-align: right;\n",
       "    }\n",
       "</style>\n",
       "<table border=\"1\" class=\"dataframe\">\n",
       "  <thead>\n",
       "    <tr style=\"text-align: right;\">\n",
       "      <th></th>\n",
       "      <th>chrom</th>\n",
       "      <th>start</th>\n",
       "      <th>end</th>\n",
       "      <th>build_region_index</th>\n",
       "      <th>label</th>\n",
       "      <th>perturbation_object</th>\n",
       "    </tr>\n",
       "  </thead>\n",
       "  <tbody>\n",
       "    <tr>\n",
       "      <th>0</th>\n",
       "      <td>chr1</td>\n",
       "      <td>199241128</td>\n",
       "      <td>199242128</td>\n",
       "      <td>141732</td>\n",
       "      <td>1.956989</td>\n",
       "      <td>NaN</td>\n",
       "    </tr>\n",
       "    <tr>\n",
       "      <th>1</th>\n",
       "      <td>chr1</td>\n",
       "      <td>107707622</td>\n",
       "      <td>107708622</td>\n",
       "      <td>87175</td>\n",
       "      <td>2.505805</td>\n",
       "      <td>NaN</td>\n",
       "    </tr>\n",
       "    <tr>\n",
       "      <th>2</th>\n",
       "      <td>chr10</td>\n",
       "      <td>127935569</td>\n",
       "      <td>127936569</td>\n",
       "      <td>281197</td>\n",
       "      <td>2.637493</td>\n",
       "      <td>NaN</td>\n",
       "    </tr>\n",
       "    <tr>\n",
       "      <th>3</th>\n",
       "      <td>chr2</td>\n",
       "      <td>72258130</td>\n",
       "      <td>72259130</td>\n",
       "      <td>975449</td>\n",
       "      <td>1.491235</td>\n",
       "      <td>NaN</td>\n",
       "    </tr>\n",
       "    <tr>\n",
       "      <th>4</th>\n",
       "      <td>chr8</td>\n",
       "      <td>33612518</td>\n",
       "      <td>33613518</td>\n",
       "      <td>1889869</td>\n",
       "      <td>1.761900</td>\n",
       "      <td>NaN</td>\n",
       "    </tr>\n",
       "    <tr>\n",
       "      <th>...</th>\n",
       "      <td>...</td>\n",
       "      <td>...</td>\n",
       "      <td>...</td>\n",
       "      <td>...</td>\n",
       "      <td>...</td>\n",
       "      <td>...</td>\n",
       "    </tr>\n",
       "    <tr>\n",
       "      <th>34813</th>\n",
       "      <td>chr4</td>\n",
       "      <td>1388788</td>\n",
       "      <td>1389788</td>\n",
       "      <td>1355108</td>\n",
       "      <td>3.686819</td>\n",
       "      <td>GSM1121096;GSM1296385;GSM1313922</td>\n",
       "    </tr>\n",
       "    <tr>\n",
       "      <th>34814</th>\n",
       "      <td>chrX</td>\n",
       "      <td>3651041</td>\n",
       "      <td>3652041</td>\n",
       "      <td>2061995</td>\n",
       "      <td>0.914363</td>\n",
       "      <td>GSM602291;GSM449527;GSM525270;GSM525268;GSM393...</td>\n",
       "    </tr>\n",
       "    <tr>\n",
       "      <th>34815</th>\n",
       "      <td>chr5</td>\n",
       "      <td>135488689</td>\n",
       "      <td>135489689</td>\n",
       "      <td>1580262</td>\n",
       "      <td>1.735307</td>\n",
       "      <td>GSM971946;GSM1247824;GSM1328971;GSM1665999;GSM...</td>\n",
       "    </tr>\n",
       "    <tr>\n",
       "      <th>34816</th>\n",
       "      <td>chr10</td>\n",
       "      <td>87317757</td>\n",
       "      <td>87318757</td>\n",
       "      <td>247977</td>\n",
       "      <td>1.701492</td>\n",
       "      <td>GSM971946;GSM1247824;GSM1328971;GSM1665999;GSM...</td>\n",
       "    </tr>\n",
       "    <tr>\n",
       "      <th>34817</th>\n",
       "      <td>chr11</td>\n",
       "      <td>111957724</td>\n",
       "      <td>111958724</td>\n",
       "      <td>366599</td>\n",
       "      <td>2.091776</td>\n",
       "      <td>GSM602291;GSM449527;GSM525270;GSM525268;GSM393...</td>\n",
       "    </tr>\n",
       "  </tbody>\n",
       "</table>\n",
       "<p>34818 rows × 6 columns</p>\n",
       "</div>"
      ],
      "text/plain": [
       "       chrom      start        end  build_region_index     label  \\\n",
       "0       chr1  199241128  199242128              141732  1.956989   \n",
       "1       chr1  107707622  107708622               87175  2.505805   \n",
       "2      chr10  127935569  127936569              281197  2.637493   \n",
       "3       chr2   72258130   72259130              975449  1.491235   \n",
       "4       chr8   33612518   33613518             1889869  1.761900   \n",
       "...      ...        ...        ...                 ...       ...   \n",
       "34813   chr4    1388788    1389788             1355108  3.686819   \n",
       "34814   chrX    3651041    3652041             2061995  0.914363   \n",
       "34815   chr5  135488689  135489689             1580262  1.735307   \n",
       "34816  chr10   87317757   87318757              247977  1.701492   \n",
       "34817  chr11  111957724  111958724              366599  2.091776   \n",
       "\n",
       "                                     perturbation_object  \n",
       "0                                                    NaN  \n",
       "1                                                    NaN  \n",
       "2                                                    NaN  \n",
       "3                                                    NaN  \n",
       "4                                                    NaN  \n",
       "...                                                  ...  \n",
       "34813                   GSM1121096;GSM1296385;GSM1313922  \n",
       "34814  GSM602291;GSM449527;GSM525270;GSM525268;GSM393...  \n",
       "34815  GSM971946;GSM1247824;GSM1328971;GSM1665999;GSM...  \n",
       "34816  GSM971946;GSM1247824;GSM1328971;GSM1665999;GSM...  \n",
       "34817  GSM602291;GSM449527;GSM525270;GSM525268;GSM393...  \n",
       "\n",
       "[34818 rows x 6 columns]"
      ]
     },
     "execution_count": 2,
     "metadata": {},
     "output_type": "execute_result"
    }
   ],
   "source": [
    "# below is a example setting `perturbation_object` for each sample\n",
    "supervised_train = os.path.join(basedir, \"demo\", \"starr\", \"train.csv\")\n",
    "df_train = pd.read_csv(supervised_train)\n",
    "df_train"
   ]
  },
  {
   "cell_type": "code",
   "execution_count": 3,
   "metadata": {},
   "outputs": [
    {
     "name": "stdout",
     "output_type": "stream",
     "text": [
      "update path: hdf5_file = hg38_6k_1kb.hdf5\n",
      "update path: meta_file = config/hg38_6k_meta.json\n",
      "{\n",
      "    \"hdf5_file\": \"/home/yangdongxu/.cache/chrombert/data/hg38_6k_1kb.hdf5\",\n",
      "    \"supervised_file\": \"/home/yangdongxu/.cache/chrombert/data/demo/starr/train.csv\",\n",
      "    \"kind\": \"GeneralDataset\",\n",
      "    \"meta_file\": \"/home/yangdongxu/.cache/chrombert/data/config/hg38_6k_meta.json\",\n",
      "    \"ignore\": false,\n",
      "    \"ignore_object\": null,\n",
      "    \"batch_size\": 8,\n",
      "    \"num_workers\": 20,\n",
      "    \"shuffle\": false,\n",
      "    \"pin_memory\": true,\n",
      "    \"perturbation\": true,\n",
      "    \"perturbation_object\": null,\n",
      "    \"perturbation_value\": 0,\n",
      "    \"prompt_kind\": null,\n",
      "    \"prompt_regulator\": null,\n",
      "    \"prompt_regulator_cache_file\": null,\n",
      "    \"prompt_celltype\": null,\n",
      "    \"prompt_celltype_cache_file\": null,\n",
      "    \"prompt_regulator_cache_pin_memory\": false,\n",
      "    \"prompt_regulator_cache_limit\": 3,\n",
      "    \"fasta_file\": null,\n",
      "    \"flank_window\": 0\n",
      "}\n"
     ]
    }
   ],
   "source": [
    "dc = chrombert.get_preset_dataset_config(\n",
    "    \"general\", supervised_file = supervised_train, \n",
    "    perturbation = True, \n",
    "    perturbation_value = 0  # Perturbation value controls the signal level:\n",
    "                           # 0: Complete signal removal (similar to knock-out)\n",
    "                           # 1-3: Intermediate signal reduction\n",
    "                           # 4: Signal amplification (similar to over-expression)\n",
    "    # Optional: Override perturbation targets by setting perturbation_object\n",
    "    # Example: perturbation_object = \"EP300;CREBBP\" will perturb EP300 and CREBBP signals\n",
    "    )\n",
    "print(dc)"
   ]
  },
  {
   "cell_type": "code",
   "execution_count": 4,
   "metadata": {},
   "outputs": [
    {
     "name": "stdout",
     "output_type": "stream",
     "text": [
      "use perturbation_object in supervised_file\n"
     ]
    },
    {
     "data": {
      "text/plain": [
       "{'input_ids': tensor([5, 6, 5,  ..., 6, 6, 5], dtype=torch.int8),\n",
       " 'position_ids': tensor([   1,    2,    3,  ..., 6389, 6390, 6391]),\n",
       " 'region': tensor([        1, 107165000, 107166000], dtype=torch.int32),\n",
       " 'build_region_index': 87175,\n",
       " 'label': 2.505804511612648}"
      ]
     },
     "execution_count": 4,
     "metadata": {},
     "output_type": "execute_result"
    }
   ],
   "source": [
    "ds = dc.init_dataset()\n",
    "# Example of perturbed dataset entry\n",
    "# input_ids contains tokenized sequence where values 5-9 represent signal levels:\n",
    "# 5: No signal (complete perturbation)\n",
    "# 6-8: Intermediate signal levels \n",
    "# 9: Maximum signal level\n",
    "ds[1] "
   ]
  },
  {
   "cell_type": "markdown",
   "metadata": {},
   "source": [
    "The dataset can be used in combination with the `ignore` functionality. In this case, we omit all other regulators and focus solely on transcription factors."
   ]
  },
  {
   "cell_type": "code",
   "execution_count": 5,
   "metadata": {},
   "outputs": [
    {
     "data": {
      "text/plain": [
       "'5hmC;ATAC-seq;DNase;FAIRE;H1.0;H1.4;H2A;H2A.Bbd;H2A.Z;H2A.Zac;H2AFX;H2AFY;H2AK119ub;H2AK5ac;H2AX;H2AZ;H2AZK4ac, H2AZK7ac, H2AZK11ac;H2AZac;H2BK120ac;H2BK120ub;H2BK12ac;H2BK15ac;H2BK20ac;H2BK5ac;H2Bub;H3;H3-T45ph;H3.3;H3.3,H2A.Z;H3F3A;H3F3B;H3K122ac;H3K14ac;H3K18ac;H3K18cr;H3K23ac;H3K23me2;H3K27ac;H3K27me1;H3K27me3;H3K27me3/H3K4me3;H3K36ac;H3K36me1;H3K36me2;H3K36me3;H3K4ac;H3K4me1;H3K4me2;H3K4me3;H3K56ac;H3K79me1;H3K79me2;H3K79me3;H3K9/14ac;H3K9K14ac;H3K9ac;H3K9me1;H3K9me2;H3K9me3;H3Kac;H3R26Cit;H3T11ph;H3T6ph;H3Y;H3ac;H4;H4K12ac;H4K16ac;H4K20me1;H4K20me3;H4K5ac;H4K5ac, H4K8ac, H4K12ac, H4K16ac;H4K8ac;H4K91ac;H4TetraAc;H4ac;Histone Lysine Acetylation;Histone Lysine Crotonylation;Input;Rloop;macroH2A1;macroH2A2'"
      ]
     },
     "execution_count": 5,
     "metadata": {},
     "output_type": "execute_result"
    }
   ],
   "source": [
    "trs_all = pd.read_csv(\"~/.cache/chrombert/data/config/hg38_6k_regulators_list.txt\", sep=\"\\t\", header=None)\n",
    "tfs_all = pd.read_csv(\"~/.cache/chrombert/data/config/hg38_6k_factors_list.txt\", sep=\"\\t\", header=None)\n",
    "trs_nontf = \";\".join(np.setdiff1d(trs_all, tfs_all))\n",
    "trs_nontf"
   ]
  },
  {
   "cell_type": "code",
   "execution_count": 6,
   "metadata": {},
   "outputs": [
    {
     "name": "stdout",
     "output_type": "stream",
     "text": [
      "update path: hdf5_file = hg38_6k_1kb.hdf5\n",
      "update path: meta_file = config/hg38_6k_meta.json\n"
     ]
    },
    {
     "name": "stdout",
     "output_type": "stream",
     "text": [
      "use perturbation_object in supervised_file\n"
     ]
    },
    {
     "data": {
      "text/plain": [
       "{'input_ids': tensor([6, 6, 6,  ..., 5, 6, 5], dtype=torch.int8),\n",
       " 'position_ids': tensor([ 953,  959, 1147,  ..., 6388, 6389, 6391]),\n",
       " 'region': tensor([        1, 107165000, 107166000], dtype=torch.int32),\n",
       " 'build_region_index': 87175,\n",
       " 'ignore_index': (array([2326, 1465, 2113, ...,  223, 2765,  787]),\n",
       "  array([  0,  27, 146, 213, 276, 277, 278, 279, 280, 281, 282, 283, 284,\n",
       "         285, 286, 287, 288, 289, 290, 291, 292, 293, 294, 295, 296, 297,\n",
       "         298, 299, 300, 301, 302, 303, 304, 305, 306, 307, 308, 309, 310,\n",
       "         311, 312, 313, 314, 315, 316, 317, 318, 319, 320, 321, 322, 323,\n",
       "         324, 325, 326, 327, 328, 329, 330, 331, 332, 333, 334, 335, 336,\n",
       "         337, 338, 339, 340, 341, 342, 343, 344, 345, 346, 347, 369, 370,\n",
       "         406, 474, 475, 672])),\n",
       " 'label': 2.505804511612648}"
      ]
     },
     "execution_count": 6,
     "metadata": {},
     "output_type": "execute_result"
    }
   ],
   "source": [
    "ignores=trs_nontf\n",
    "\n",
    "dc = chrombert.get_preset_dataset_config(\n",
    "    \"general\", supervised_file = supervised_train, \n",
    "    perturbation = True, \n",
    "    perturbation_value = 0, # choose from [0,1,2,3,4]\n",
    "    # Optional: Override perturbation targets by setting perturbation_object\n",
    "    # Example: perturbation_object = \"EP300;CREBBP\" will perturb EP300 and CREBBP signals\n",
    "    ignore = True, \n",
    "    ignore_object = ignores,\n",
    "    batch_size = 1\n",
    "    )\n",
    "ds = dc.init_dataset()\n",
    "ignore_index = ds[1][\"ignore_index\"]\n",
    "ds[1]"
   ]
  },
  {
   "cell_type": "markdown",
   "metadata": {},
   "source": [
    "### Load model\n",
    "\n",
    "Loading the model follows the same procedure as for other tasks."
   ]
  },
  {
   "cell_type": "code",
   "execution_count": 7,
   "metadata": {},
   "outputs": [
    {
     "name": "stdout",
     "output_type": "stream",
     "text": [
      "update path: mtx_mask = config/hg38_6k_mask_matrix.tsv\n",
      "update path: pretrain_ckpt = checkpoint/hg38_6k_1kb_pretrain.ckpt\n"
     ]
    }
   ],
   "source": [
    "mc = chrombert.get_preset_model_config(\n",
    "    \"general\", \n",
    "    ignore = True, \n",
    "    ignore_index = ignore_index,\n",
    "    dropout = 0.1 # to fine-tune the model\n",
    ")"
   ]
  },
  {
   "cell_type": "code",
   "execution_count": 8,
   "metadata": {},
   "outputs": [
    {
     "name": "stdout",
     "output_type": "stream",
     "text": [
      "use organisim hg38; max sequence length is 6391\n"
     ]
    },
    {
     "name": "stdout",
     "output_type": "stream",
     "text": [
      "Ignoring 3057 cistromes and 82 regulators\n"
     ]
    },
    {
     "data": {
      "text/plain": [
       "================================================================================\n",
       "Layer (type:depth-idx)                                  Param #\n",
       "================================================================================\n",
       "ChromBERTGeneral                                        --\n",
       "├─ChromBERT: 1-1                                        --\n",
       "│    └─BERTEmbedding: 2-1                               --\n",
       "│    │    └─TokenEmbedding: 3-1                         (7,680)\n",
       "│    │    └─PositionalEmbedding: 3-2                    (4,909,056)\n",
       "│    │    └─Dropout: 3-3                                --\n",
       "│    └─ModuleList: 2-2                                  --\n",
       "│    │    └─EncoderTransformerBlock: 3-4                (6,497,280)\n",
       "│    │    └─EncoderTransformerBlock: 3-5                (6,497,280)\n",
       "│    │    └─EncoderTransformerBlock: 3-6                (6,497,280)\n",
       "│    │    └─EncoderTransformerBlock: 3-7                (6,497,280)\n",
       "│    │    └─EncoderTransformerBlock: 3-8                (6,497,280)\n",
       "│    │    └─EncoderTransformerBlock: 3-9                (6,497,280)\n",
       "│    │    └─EncoderTransformerBlock: 3-10               6,497,280\n",
       "│    │    └─EncoderTransformerBlock: 3-11               6,497,280\n",
       "├─GeneralHeader: 1-2                                    --\n",
       "│    └─CistromeEmbeddingManager: 2-3                    --\n",
       "│    └─Conv2d: 2-4                                      769\n",
       "│    └─ReLU: 2-5                                        --\n",
       "│    └─ResidualBlock: 2-6                               --\n",
       "│    │    └─Linear: 3-12                                1,015,808\n",
       "│    │    └─Linear: 3-13                                1,049,600\n",
       "│    │    └─LayerNorm: 3-14                             2,048\n",
       "│    │    └─Linear: 3-15                                1,015,808\n",
       "│    │    └─Dropout: 3-16                               --\n",
       "│    └─ResidualBlock: 2-7                               --\n",
       "│    │    └─Linear: 3-17                                787,200\n",
       "│    │    └─Linear: 3-18                                590,592\n",
       "│    │    └─LayerNorm: 3-19                             1,536\n",
       "│    │    └─Linear: 3-20                                787,200\n",
       "│    │    └─Dropout: 3-21                               --\n",
       "│    └─ResidualBlock: 2-8                               --\n",
       "│    │    └─Linear: 3-22                                196,864\n",
       "│    │    └─Linear: 3-23                                65,792\n",
       "│    │    └─LayerNorm: 3-24                             512\n",
       "│    │    └─Linear: 3-25                                196,864\n",
       "│    │    └─Dropout: 3-26                               --\n",
       "│    └─Linear: 2-9                                      257\n",
       "================================================================================\n",
       "Total params: 62,605,826\n",
       "Trainable params: 18,705,410\n",
       "Non-trainable params: 43,900,416\n",
       "================================================================================"
      ]
     },
     "execution_count": 8,
     "metadata": {},
     "output_type": "execute_result"
    }
   ],
   "source": [
    "model = mc.init_model().cuda().bfloat16()\n",
    "model.freeze_pretrain(trainable=2)\n",
    "summary(model)"
   ]
  },
  {
   "cell_type": "markdown",
   "metadata": {},
   "source": [
    "### Fine-Tune  \n",
    "\n",
    "We provide a simple fine-tuning demonstration here. For practical applications, please refer to [ Compiled Scripts](https://chrombert.readthedocs.io/en/latest/finetune.html).\n"
   ]
  },
  {
   "cell_type": "code",
   "execution_count": 9,
   "metadata": {},
   "outputs": [
    {
     "data": {
      "text/plain": [
       "<chrombert.finetune.dataset.data_module.LitChromBERTFTDataModule at 0x7f035eaeb220>"
      ]
     },
     "execution_count": 9,
     "metadata": {},
     "output_type": "execute_result"
    }
   ],
   "source": [
    "data_module = chrombert.LitChromBERTFTDataModule(\n",
    "    config = dc.clone(batch_size=8),\n",
    "    train_params = dict(supervised_file = os.path.join(basedir, \"demo\", \"starr\", \"train.csv\")),\n",
    "    val_params = dict(supervised_file = os.path.join(basedir, \"demo\", \"starr\", \"valid.csv\")),\n",
    "    test_params = dict(supervised_file = os.path.join(basedir, \"demo\", \"starr\", \"test.csv\")),\n",
    ")\n",
    "data_module"
   ]
  },
  {
   "cell_type": "code",
   "execution_count": 10,
   "metadata": {},
   "outputs": [
    {
     "name": "stderr",
     "output_type": "stream",
     "text": [
      "/miniconda/lib/python3.10/site-packages/torchmetrics/utilities/prints.py:36: UserWarning: Metric `SpearmanCorrcoef` will save all targets and predictions in the buffer. For large datasets, this may lead to large memory footprint.\n",
      "  warnings.warn(*args, **kwargs)\n"
     ]
    },
    {
     "data": {
      "text/plain": [
       "chrombert.finetune.train.pl_module.RegressionPLModule"
      ]
     },
     "execution_count": 10,
     "metadata": {},
     "output_type": "execute_result"
    }
   ],
   "source": [
    "# Configure training parameters for demonstration purposes\n",
    "# Note: These parameters are intentionally set for quick tutorial execution and are not optimal for production use\n",
    "# For recommended hyperparameters, please refer to our manuscript\n",
    "# Training time: ~30 minutes on NVIDIA A100 GPU\n",
    "\n",
    "tc = chrombert.finetune.train.TrainConfig(\n",
    "    kind = \"regression\",\n",
    "    loss = \"rmse\",  # RMSE loss is used since this is a regression task\n",
    "    max_epochs = 2,  # Using minimal epochs for demo, increase for real training\n",
    "    lr = 1e-4,      # Learning rate set high for demo, lower for better results\n",
    "    val_check_interval = 0.1,  # Validate every 10% of training\n",
    "    limit_val_batches = 1.0,   # Use full validation set\n",
    "    accumulate_grad_batches = 8,  # Accumulate gradients over 8 batches\n",
    ")\n",
    "\n",
    "# Initialize PyTorch Lightning module with our model\n",
    "pl_module = tc.init_pl_module(model)\n",
    "type(pl_module)"
   ]
  },
  {
   "cell_type": "code",
   "execution_count": 11,
   "metadata": {},
   "outputs": [
    {
     "name": "stderr",
     "output_type": "stream",
     "text": [
      "/miniconda/lib/python3.10/site-packages/lightning/fabric/connector.py:555: UserWarning: bf16 is supported for historical reasons but its usage is discouraged. Please set your precision to bf16-mixed instead!\n",
      "  rank_zero_warn(\n",
      "Using bfloat16 Automatic Mixed Precision (AMP)\n",
      "GPU available: True (cuda), used: True\n",
      "TPU available: False, using: 0 TPU cores\n",
      "IPU available: False, using: 0 IPUs\n",
      "HPU available: False, using: 0 HPUs\n",
      "`Trainer(limit_val_batches=1.0)` was configured so 100% of the batches will be used..\n",
      "You are using a CUDA device ('NVIDIA A100-PCIE-40GB') that has Tensor Cores. To properly utilize them, you should set `torch.set_float32_matmul_precision('medium' | 'high')` which will trade-off precision for performance. For more details, read https://pytorch.org/docs/stable/generated/torch.set_float32_matmul_precision.html#torch.set_float32_matmul_precision\n",
      "Missing logger folder: /home/yangdongxu/work/source/repos/ChromBERT/examples/tutorials/lightning_logs/chrombert-ft\n",
      "LOCAL_RANK: 0 - CUDA_VISIBLE_DEVICES: [0]\n"
     ]
    },
    {
     "name": "stderr",
     "output_type": "stream",
     "text": [
      "Loading `train_dataloader` to estimate number of stepping batches.\n"
     ]
    },
    {
     "name": "stdout",
     "output_type": "stream",
     "text": [
      "use perturbation_object in supervised_file\n",
      "use perturbation_object in supervised_file\n",
      "use perturbation_object in supervised_file\n"
     ]
    },
    {
     "name": "stderr",
     "output_type": "stream",
     "text": [
      "\n",
      "  | Name  | Type             | Params\n",
      "-------------------------------------------\n",
      "0 | model | ChromBERTGeneral | 62.6 M\n",
      "-------------------------------------------\n",
      "18.7 M    Trainable params\n",
      "43.9 M    Non-trainable params\n",
      "62.6 M    Total params\n",
      "250.423   Total estimated model params size (MB)\n"
     ]
    },
    {
     "data": {
      "application/vnd.jupyter.widget-view+json": {
       "model_id": "99cb539b7bc74e8da7ac4714dcd82e62",
       "version_major": 2,
       "version_minor": 0
      },
      "text/plain": [
       "Sanity Checking: 0it [00:00, ?it/s]"
      ]
     },
     "metadata": {},
     "output_type": "display_data"
    },
    {
     "name": "stderr",
     "output_type": "stream",
     "text": [
      "/miniconda/lib/python3.10/site-packages/lightning/pytorch/trainer/connectors/data_connector.py:480: PossibleUserWarning: Your `val_dataloader`'s sampler has shuffling enabled, it is strongly recommended that you turn shuffling off for val/test dataloaders.\n",
      "  rank_zero_warn(\n"
     ]
    },
    {
     "data": {
      "application/vnd.jupyter.widget-view+json": {
       "model_id": "7a560db48b9a459e8c5ddf7b1490499d",
       "version_major": 2,
       "version_minor": 0
      },
      "text/plain": [
       "Training: 0it [00:00, ?it/s]"
      ]
     },
     "metadata": {},
     "output_type": "display_data"
    },
    {
     "data": {
      "application/vnd.jupyter.widget-view+json": {
       "model_id": "4bcfa77367ab4d94ac897cb279d38c4b",
       "version_major": 2,
       "version_minor": 0
      },
      "text/plain": [
       "Validation: 0it [00:00, ?it/s]"
      ]
     },
     "metadata": {},
     "output_type": "display_data"
    },
    {
     "name": "stderr",
     "output_type": "stream",
     "text": [
      "Epoch 0, global step 54: 'default_validation/rmse' reached 0.85965 (best 0.85965), saving model to '/home/yangdongxu/work/source/repos/ChromBERT/examples/tutorials/lightning_logs/chrombert-ft/version_0/checkpoints/epoch=0-step=54.ckpt' as top 1\n"
     ]
    },
    {
     "data": {
      "application/vnd.jupyter.widget-view+json": {
       "model_id": "65997fc89c4545c792ae3cb8a2d40224",
       "version_major": 2,
       "version_minor": 0
      },
      "text/plain": [
       "Validation: 0it [00:00, ?it/s]"
      ]
     },
     "metadata": {},
     "output_type": "display_data"
    },
    {
     "name": "stderr",
     "output_type": "stream",
     "text": [
      "Epoch 0, global step 108: 'default_validation/rmse' reached 0.84459 (best 0.84459), saving model to '/home/yangdongxu/work/source/repos/ChromBERT/examples/tutorials/lightning_logs/chrombert-ft/version_0/checkpoints/epoch=0-step=108.ckpt' as top 1\n"
     ]
    },
    {
     "data": {
      "application/vnd.jupyter.widget-view+json": {
       "model_id": "cc77f0d9700d459db0e2354297d8eded",
       "version_major": 2,
       "version_minor": 0
      },
      "text/plain": [
       "Validation: 0it [00:00, ?it/s]"
      ]
     },
     "metadata": {},
     "output_type": "display_data"
    },
    {
     "name": "stderr",
     "output_type": "stream",
     "text": [
      "Epoch 0, global step 163: 'default_validation/rmse' was not in top 1\n"
     ]
    },
    {
     "data": {
      "application/vnd.jupyter.widget-view+json": {
       "model_id": "d12ead0d3aff435fb57cf82e7434e557",
       "version_major": 2,
       "version_minor": 0
      },
      "text/plain": [
       "Validation: 0it [00:00, ?it/s]"
      ]
     },
     "metadata": {},
     "output_type": "display_data"
    },
    {
     "name": "stderr",
     "output_type": "stream",
     "text": [
      "Epoch 0, global step 217: 'default_validation/rmse' reached 0.84353 (best 0.84353), saving model to '/home/yangdongxu/work/source/repos/ChromBERT/examples/tutorials/lightning_logs/chrombert-ft/version_0/checkpoints/epoch=0-step=217.ckpt' as top 1\n"
     ]
    },
    {
     "data": {
      "application/vnd.jupyter.widget-view+json": {
       "model_id": "989ac79d59424c1da763a612af8741d1",
       "version_major": 2,
       "version_minor": 0
      },
      "text/plain": [
       "Validation: 0it [00:00, ?it/s]"
      ]
     },
     "metadata": {},
     "output_type": "display_data"
    },
    {
     "name": "stderr",
     "output_type": "stream",
     "text": [
      "Epoch 0, global step 271: 'default_validation/rmse' reached 0.84094 (best 0.84094), saving model to '/home/yangdongxu/work/source/repos/ChromBERT/examples/tutorials/lightning_logs/chrombert-ft/version_0/checkpoints/epoch=0-step=271.ckpt' as top 1\n"
     ]
    },
    {
     "data": {
      "application/vnd.jupyter.widget-view+json": {
       "model_id": "469e622f67454a2da4077cb41daec79f",
       "version_major": 2,
       "version_minor": 0
      },
      "text/plain": [
       "Validation: 0it [00:00, ?it/s]"
      ]
     },
     "metadata": {},
     "output_type": "display_data"
    },
    {
     "name": "stderr",
     "output_type": "stream",
     "text": [
      "Epoch 0, global step 326: 'default_validation/rmse' reached 0.83853 (best 0.83853), saving model to '/home/yangdongxu/work/source/repos/ChromBERT/examples/tutorials/lightning_logs/chrombert-ft/version_0/checkpoints/epoch=0-step=326.ckpt' as top 1\n"
     ]
    },
    {
     "data": {
      "application/vnd.jupyter.widget-view+json": {
       "model_id": "a4fd7f71bed242728d3e3eb4e4f061ae",
       "version_major": 2,
       "version_minor": 0
      },
      "text/plain": [
       "Validation: 0it [00:00, ?it/s]"
      ]
     },
     "metadata": {},
     "output_type": "display_data"
    },
    {
     "name": "stderr",
     "output_type": "stream",
     "text": [
      "Epoch 0, global step 380: 'default_validation/rmse' reached 0.83156 (best 0.83156), saving model to '/home/yangdongxu/work/source/repos/ChromBERT/examples/tutorials/lightning_logs/chrombert-ft/version_0/checkpoints/epoch=0-step=380.ckpt' as top 1\n"
     ]
    },
    {
     "data": {
      "application/vnd.jupyter.widget-view+json": {
       "model_id": "aa613992d3cf47218f367ac671b9f908",
       "version_major": 2,
       "version_minor": 0
      },
      "text/plain": [
       "Validation: 0it [00:00, ?it/s]"
      ]
     },
     "metadata": {},
     "output_type": "display_data"
    },
    {
     "name": "stderr",
     "output_type": "stream",
     "text": [
      "Epoch 0, global step 435: 'default_validation/rmse' was not in top 1\n"
     ]
    },
    {
     "data": {
      "application/vnd.jupyter.widget-view+json": {
       "model_id": "3c111046a6c0477a98152b19d0b2c73d",
       "version_major": 2,
       "version_minor": 0
      },
      "text/plain": [
       "Validation: 0it [00:00, ?it/s]"
      ]
     },
     "metadata": {},
     "output_type": "display_data"
    },
    {
     "name": "stderr",
     "output_type": "stream",
     "text": [
      "Epoch 0, global step 489: 'default_validation/rmse' was not in top 1\n"
     ]
    },
    {
     "data": {
      "application/vnd.jupyter.widget-view+json": {
       "model_id": "8966e2711ffb4584897b4fa884410786",
       "version_major": 2,
       "version_minor": 0
      },
      "text/plain": [
       "Validation: 0it [00:00, ?it/s]"
      ]
     },
     "metadata": {},
     "output_type": "display_data"
    },
    {
     "name": "stderr",
     "output_type": "stream",
     "text": [
      "Epoch 0, global step 543: 'default_validation/rmse' reached 0.82666 (best 0.82666), saving model to '/home/yangdongxu/work/source/repos/ChromBERT/examples/tutorials/lightning_logs/chrombert-ft/version_0/checkpoints/epoch=0-step=543.ckpt' as top 1\n"
     ]
    },
    {
     "data": {
      "application/vnd.jupyter.widget-view+json": {
       "model_id": "7967b221f78e4785b667fcb71cd5be7b",
       "version_major": 2,
       "version_minor": 0
      },
      "text/plain": [
       "Validation: 0it [00:00, ?it/s]"
      ]
     },
     "metadata": {},
     "output_type": "display_data"
    },
    {
     "name": "stderr",
     "output_type": "stream",
     "text": [
      "Epoch 1, global step 599: 'default_validation/rmse' reached 0.82323 (best 0.82323), saving model to '/home/yangdongxu/work/source/repos/ChromBERT/examples/tutorials/lightning_logs/chrombert-ft/version_0/checkpoints/epoch=1-step=599.ckpt' as top 1\n"
     ]
    },
    {
     "data": {
      "application/vnd.jupyter.widget-view+json": {
       "model_id": "7a017893d2304b7488abfda9caa69dbb",
       "version_major": 2,
       "version_minor": 0
      },
      "text/plain": [
       "Validation: 0it [00:00, ?it/s]"
      ]
     },
     "metadata": {},
     "output_type": "display_data"
    },
    {
     "name": "stderr",
     "output_type": "stream",
     "text": [
      "Epoch 1, global step 653: 'default_validation/rmse' reached 0.82259 (best 0.82259), saving model to '/home/yangdongxu/work/source/repos/ChromBERT/examples/tutorials/lightning_logs/chrombert-ft/version_0/checkpoints/epoch=1-step=653.ckpt' as top 1\n"
     ]
    },
    {
     "data": {
      "application/vnd.jupyter.widget-view+json": {
       "model_id": "fa01b60f9bbc473d800eae190aae4069",
       "version_major": 2,
       "version_minor": 0
      },
      "text/plain": [
       "Validation: 0it [00:00, ?it/s]"
      ]
     },
     "metadata": {},
     "output_type": "display_data"
    },
    {
     "name": "stderr",
     "output_type": "stream",
     "text": [
      "Epoch 1, global step 708: 'default_validation/rmse' reached 0.81993 (best 0.81993), saving model to '/home/yangdongxu/work/source/repos/ChromBERT/examples/tutorials/lightning_logs/chrombert-ft/version_0/checkpoints/epoch=1-step=708.ckpt' as top 1\n"
     ]
    },
    {
     "data": {
      "application/vnd.jupyter.widget-view+json": {
       "model_id": "89fae8147cda4d12bb6f45692c77a69d",
       "version_major": 2,
       "version_minor": 0
      },
      "text/plain": [
       "Validation: 0it [00:00, ?it/s]"
      ]
     },
     "metadata": {},
     "output_type": "display_data"
    },
    {
     "name": "stderr",
     "output_type": "stream",
     "text": [
      "Epoch 1, global step 762: 'default_validation/rmse' reached 0.81638 (best 0.81638), saving model to '/home/yangdongxu/work/source/repos/ChromBERT/examples/tutorials/lightning_logs/chrombert-ft/version_0/checkpoints/epoch=1-step=762.ckpt' as top 1\n"
     ]
    },
    {
     "data": {
      "application/vnd.jupyter.widget-view+json": {
       "model_id": "3388ab8eaf8b47fd80fded8c31711fb5",
       "version_major": 2,
       "version_minor": 0
      },
      "text/plain": [
       "Validation: 0it [00:00, ?it/s]"
      ]
     },
     "metadata": {},
     "output_type": "display_data"
    },
    {
     "name": "stderr",
     "output_type": "stream",
     "text": [
      "Epoch 1, global step 816: 'default_validation/rmse' reached 0.81425 (best 0.81425), saving model to '/home/yangdongxu/work/source/repos/ChromBERT/examples/tutorials/lightning_logs/chrombert-ft/version_0/checkpoints/epoch=1-step=816.ckpt' as top 1\n"
     ]
    },
    {
     "data": {
      "application/vnd.jupyter.widget-view+json": {
       "model_id": "7bd5c9846386427a8d489ccf2b2048ff",
       "version_major": 2,
       "version_minor": 0
      },
      "text/plain": [
       "Validation: 0it [00:00, ?it/s]"
      ]
     },
     "metadata": {},
     "output_type": "display_data"
    },
    {
     "name": "stderr",
     "output_type": "stream",
     "text": [
      "Epoch 1, global step 871: 'default_validation/rmse' reached 0.81100 (best 0.81100), saving model to '/home/yangdongxu/work/source/repos/ChromBERT/examples/tutorials/lightning_logs/chrombert-ft/version_0/checkpoints/epoch=1-step=871.ckpt' as top 1\n"
     ]
    },
    {
     "data": {
      "application/vnd.jupyter.widget-view+json": {
       "model_id": "5b96dbcb13ca438ea8c69d4fc8316bde",
       "version_major": 2,
       "version_minor": 0
      },
      "text/plain": [
       "Validation: 0it [00:00, ?it/s]"
      ]
     },
     "metadata": {},
     "output_type": "display_data"
    },
    {
     "name": "stderr",
     "output_type": "stream",
     "text": [
      "Epoch 1, global step 925: 'default_validation/rmse' reached 0.80984 (best 0.80984), saving model to '/home/yangdongxu/work/source/repos/ChromBERT/examples/tutorials/lightning_logs/chrombert-ft/version_0/checkpoints/epoch=1-step=925.ckpt' as top 1\n"
     ]
    },
    {
     "data": {
      "application/vnd.jupyter.widget-view+json": {
       "model_id": "3b8efc05490c4ae2912efc40f1add74b",
       "version_major": 2,
       "version_minor": 0
      },
      "text/plain": [
       "Validation: 0it [00:00, ?it/s]"
      ]
     },
     "metadata": {},
     "output_type": "display_data"
    },
    {
     "name": "stderr",
     "output_type": "stream",
     "text": [
      "Epoch 1, global step 980: 'default_validation/rmse' reached 0.80888 (best 0.80888), saving model to '/home/yangdongxu/work/source/repos/ChromBERT/examples/tutorials/lightning_logs/chrombert-ft/version_0/checkpoints/epoch=1-step=980.ckpt' as top 1\n"
     ]
    },
    {
     "data": {
      "application/vnd.jupyter.widget-view+json": {
       "model_id": "0ec39e06d1864022836cc569acfecd9d",
       "version_major": 2,
       "version_minor": 0
      },
      "text/plain": [
       "Validation: 0it [00:00, ?it/s]"
      ]
     },
     "metadata": {},
     "output_type": "display_data"
    },
    {
     "name": "stderr",
     "output_type": "stream",
     "text": [
      "Epoch 1, global step 1034: 'default_validation/rmse' reached 0.80849 (best 0.80849), saving model to '/home/yangdongxu/work/source/repos/ChromBERT/examples/tutorials/lightning_logs/chrombert-ft/version_0/checkpoints/epoch=1-step=1034.ckpt' as top 1\n"
     ]
    },
    {
     "data": {
      "application/vnd.jupyter.widget-view+json": {
       "model_id": "83da51873f36421c9b3613d5ed2f0628",
       "version_major": 2,
       "version_minor": 0
      },
      "text/plain": [
       "Validation: 0it [00:00, ?it/s]"
      ]
     },
     "metadata": {},
     "output_type": "display_data"
    },
    {
     "name": "stderr",
     "output_type": "stream",
     "text": [
      "Epoch 1, global step 1088: 'default_validation/rmse' was not in top 1\n",
      "`Trainer.fit` stopped: `max_epochs=2` reached.\n"
     ]
    }
   ],
   "source": [
    "trainer = tc.init_trainer(precision = \"bf16\")\n",
    "trainer.fit(pl_module, data_module)"
   ]
  },
  {
   "cell_type": "markdown",
   "metadata": {},
   "source": [
    "Checkpoints will be saved in the `lightning_logs` directory automatically, and the last checkpoint can be saved as follows:"
   ]
  },
  {
   "cell_type": "code",
   "execution_count": 12,
   "metadata": {},
   "outputs": [],
   "source": [
    "if not os.path.exists(\"tmp_starr\"):\n",
    "    os.makedirs(\"tmp_starr\")\n",
    "pl_module.save_ckpt(os.path.join(\"tmp_starr\", \"starr.ckpt\"))"
   ]
  },
  {
   "cell_type": "markdown",
   "metadata": {},
   "source": [
    "## Load fine-tuned model"
   ]
  },
  {
   "cell_type": "markdown",
   "metadata": {},
   "source": [
    "### Load model"
   ]
  },
  {
   "cell_type": "code",
   "execution_count": 13,
   "metadata": {},
   "outputs": [],
   "source": [
    "# we load the model from the last checkpoint file because of insufficient training. \n",
    "# However, it's recommend to check other checkpoints to avoid over-fitting.\n",
    "ckpt = os.path.join(\"tmp_starr\", \"starr.ckpt\")"
   ]
  },
  {
   "cell_type": "code",
   "execution_count": 14,
   "metadata": {},
   "outputs": [
    {
     "name": "stdout",
     "output_type": "stream",
     "text": [
      "update path: mtx_mask = config/hg38_6k_mask_matrix.tsv\n",
      "update path: pretrain_ckpt = checkpoint/hg38_6k_1kb_pretrain.ckpt\n",
      "update path: finetune_ckpt = /home/yangdongxu/work/source/repos/ChromBERT/examples/tutorials/tmp_starr/starr.ckpt\n",
      "use organisim hg38; max sequence length is 6391\n"
     ]
    },
    {
     "name": "stdout",
     "output_type": "stream",
     "text": [
      "Ignoring 3057 cistromes and 82 regulators\n",
      "Loading checkpoint from /home/yangdongxu/work/source/repos/ChromBERT/examples/tutorials/tmp_starr/starr.ckpt\n",
      "Loaded 110/110 parameters\n"
     ]
    },
    {
     "data": {
      "text/plain": [
       "================================================================================\n",
       "Layer (type:depth-idx)                                  Param #\n",
       "================================================================================\n",
       "ChromBERTGeneral                                        --\n",
       "├─ChromBERT: 1-1                                        --\n",
       "│    └─BERTEmbedding: 2-1                               --\n",
       "│    │    └─TokenEmbedding: 3-1                         7,680\n",
       "│    │    └─PositionalEmbedding: 3-2                    4,909,056\n",
       "│    │    └─Dropout: 3-3                                --\n",
       "│    └─ModuleList: 2-2                                  --\n",
       "│    │    └─EncoderTransformerBlock: 3-4                6,497,280\n",
       "│    │    └─EncoderTransformerBlock: 3-5                6,497,280\n",
       "│    │    └─EncoderTransformerBlock: 3-6                6,497,280\n",
       "│    │    └─EncoderTransformerBlock: 3-7                6,497,280\n",
       "│    │    └─EncoderTransformerBlock: 3-8                6,497,280\n",
       "│    │    └─EncoderTransformerBlock: 3-9                6,497,280\n",
       "│    │    └─EncoderTransformerBlock: 3-10               6,497,280\n",
       "│    │    └─EncoderTransformerBlock: 3-11               6,497,280\n",
       "├─GeneralHeader: 1-2                                    --\n",
       "│    └─CistromeEmbeddingManager: 2-3                    --\n",
       "│    └─Conv2d: 2-4                                      769\n",
       "│    └─ReLU: 2-5                                        --\n",
       "│    └─ResidualBlock: 2-6                               --\n",
       "│    │    └─Linear: 3-12                                1,015,808\n",
       "│    │    └─Linear: 3-13                                1,049,600\n",
       "│    │    └─LayerNorm: 3-14                             2,048\n",
       "│    │    └─Linear: 3-15                                1,015,808\n",
       "│    │    └─Dropout: 3-16                               --\n",
       "│    └─ResidualBlock: 2-7                               --\n",
       "│    │    └─Linear: 3-17                                787,200\n",
       "│    │    └─Linear: 3-18                                590,592\n",
       "│    │    └─LayerNorm: 3-19                             1,536\n",
       "│    │    └─Linear: 3-20                                787,200\n",
       "│    │    └─Dropout: 3-21                               --\n",
       "│    └─ResidualBlock: 2-8                               --\n",
       "│    │    └─Linear: 3-22                                196,864\n",
       "│    │    └─Linear: 3-23                                65,792\n",
       "│    │    └─LayerNorm: 3-24                             512\n",
       "│    │    └─Linear: 3-25                                196,864\n",
       "│    │    └─Dropout: 3-26                               --\n",
       "│    └─Linear: 2-9                                      257\n",
       "================================================================================\n",
       "Total params: 62,605,826\n",
       "Trainable params: 62,605,826\n",
       "Non-trainable params: 0\n",
       "================================================================================"
      ]
     },
     "execution_count": 14,
     "metadata": {},
     "output_type": "execute_result"
    }
   ],
   "source": [
    "# Load the model from the checkpoint file\n",
    "model = chrombert.get_preset_model_config(\n",
    "    \"general\", ignore = True, ignore_index = ignore_index,\n",
    "    dropout = 0, \n",
    "    finetune_ckpt = os.path.abspath(ckpt)\n",
    ").init_model().cuda().bfloat16().eval()\n",
    "summary(model)"
   ]
  },
  {
   "cell_type": "markdown",
   "metadata": {},
   "source": [
    "### Load dataset"
   ]
  },
  {
   "cell_type": "markdown",
   "metadata": {},
   "source": [
    "In this tutorial, we use the following dataset to evaluate the model's performance. The dataset has been transformed and reshaped for convenience.  \n",
    "\n",
    "The `wt` column represents the wild-type STARR-seq data, while the `ep300` column contains the STARR-seq signal from EP300/CREBBP knockdown cells.\n"
   ]
  },
  {
   "cell_type": "code",
   "execution_count": 15,
   "metadata": {},
   "outputs": [
    {
     "name": "stdout",
     "output_type": "stream",
     "text": [
      "chrom,start,end,build_region_index,wt,ep300,diff,kind\n",
      "chr6,13307232,13308232,1627400,0.9889573548313711,1.38310498787305,0.39414763304167877,nochange\n",
      "chr1,231663746,231664746,169607,2.4807076319328907,1.9394034879228463,-0.5413041440100443,other\n",
      "chr10,1155940,1156940,184962,1.3925053029992234,0.8553238049917151,-0.5371814980075083,other\n",
      "chrX,113511225,113512225,2114528,0.9910568962803128,1.1759059510981291,0.18484905481781633,nochange\n",
      "chr1,103345556,103346556,84878,0.8908197542965414,0.0901858722270683,-0.8006338820694731,other\n",
      "chr5,92694706,92695706,1548713,2.934648243515996,1.2105942864339372,-1.7240539570820588,decrease\n",
      "chr10,115111759,115112759,270229,1.5381286882444107,1.390405495436994,-0.14772319280741675,nochange\n",
      "chr4,5665727,5666727,1358762,1.335261459502083,1.7218760458360476,0.3866145863339645,nochange\n",
      "chr3,77623151,77624151,1265465,2.313793644637294,2.2775156832307086,-0.03627796140658557,nochange\n"
     ]
    }
   ],
   "source": [
    "supervised_file = os.path.join(basedir, \"demo\", \"starr\", \"supervised.csv\")\n",
    "!head $supervised_file"
   ]
  },
  {
   "cell_type": "code",
   "execution_count": 16,
   "metadata": {},
   "outputs": [
    {
     "data": {
      "text/html": [
       "<div>\n",
       "<style scoped>\n",
       "    .dataframe tbody tr th:only-of-type {\n",
       "        vertical-align: middle;\n",
       "    }\n",
       "\n",
       "    .dataframe tbody tr th {\n",
       "        vertical-align: top;\n",
       "    }\n",
       "\n",
       "    .dataframe thead th {\n",
       "        text-align: right;\n",
       "    }\n",
       "</style>\n",
       "<table border=\"1\" class=\"dataframe\">\n",
       "  <thead>\n",
       "    <tr style=\"text-align: right;\">\n",
       "      <th></th>\n",
       "      <th>chrom</th>\n",
       "      <th>start</th>\n",
       "      <th>end</th>\n",
       "      <th>build_region_index</th>\n",
       "      <th>wt</th>\n",
       "      <th>ep300</th>\n",
       "      <th>diff</th>\n",
       "      <th>kind</th>\n",
       "    </tr>\n",
       "  </thead>\n",
       "  <tbody>\n",
       "    <tr>\n",
       "      <th>0</th>\n",
       "      <td>chr6</td>\n",
       "      <td>13307232</td>\n",
       "      <td>13308232</td>\n",
       "      <td>1627400</td>\n",
       "      <td>0.988957</td>\n",
       "      <td>1.383105</td>\n",
       "      <td>0.394148</td>\n",
       "      <td>nochange</td>\n",
       "    </tr>\n",
       "    <tr>\n",
       "      <th>1</th>\n",
       "      <td>chr1</td>\n",
       "      <td>231663746</td>\n",
       "      <td>231664746</td>\n",
       "      <td>169607</td>\n",
       "      <td>2.480708</td>\n",
       "      <td>1.939403</td>\n",
       "      <td>-0.541304</td>\n",
       "      <td>other</td>\n",
       "    </tr>\n",
       "    <tr>\n",
       "      <th>2</th>\n",
       "      <td>chr10</td>\n",
       "      <td>1155940</td>\n",
       "      <td>1156940</td>\n",
       "      <td>184962</td>\n",
       "      <td>1.392505</td>\n",
       "      <td>0.855324</td>\n",
       "      <td>-0.537181</td>\n",
       "      <td>other</td>\n",
       "    </tr>\n",
       "    <tr>\n",
       "      <th>3</th>\n",
       "      <td>chrX</td>\n",
       "      <td>113511225</td>\n",
       "      <td>113512225</td>\n",
       "      <td>2114528</td>\n",
       "      <td>0.991057</td>\n",
       "      <td>1.175906</td>\n",
       "      <td>0.184849</td>\n",
       "      <td>nochange</td>\n",
       "    </tr>\n",
       "    <tr>\n",
       "      <th>4</th>\n",
       "      <td>chr1</td>\n",
       "      <td>103345556</td>\n",
       "      <td>103346556</td>\n",
       "      <td>84878</td>\n",
       "      <td>0.890820</td>\n",
       "      <td>0.090186</td>\n",
       "      <td>-0.800634</td>\n",
       "      <td>other</td>\n",
       "    </tr>\n",
       "    <tr>\n",
       "      <th>...</th>\n",
       "      <td>...</td>\n",
       "      <td>...</td>\n",
       "      <td>...</td>\n",
       "      <td>...</td>\n",
       "      <td>...</td>\n",
       "      <td>...</td>\n",
       "      <td>...</td>\n",
       "      <td>...</td>\n",
       "    </tr>\n",
       "    <tr>\n",
       "      <th>716</th>\n",
       "      <td>chr4</td>\n",
       "      <td>189862154</td>\n",
       "      <td>189863154</td>\n",
       "      <td>1481367</td>\n",
       "      <td>1.957393</td>\n",
       "      <td>0.597990</td>\n",
       "      <td>-1.359403</td>\n",
       "      <td>decrease</td>\n",
       "    </tr>\n",
       "    <tr>\n",
       "      <th>717</th>\n",
       "      <td>chr2</td>\n",
       "      <td>194444725</td>\n",
       "      <td>194445725</td>\n",
       "      <td>1059645</td>\n",
       "      <td>0.412500</td>\n",
       "      <td>0.639412</td>\n",
       "      <td>0.226912</td>\n",
       "      <td>nochange</td>\n",
       "    </tr>\n",
       "    <tr>\n",
       "      <th>718</th>\n",
       "      <td>chr10</td>\n",
       "      <td>3509192</td>\n",
       "      <td>3510192</td>\n",
       "      <td>186897</td>\n",
       "      <td>1.316483</td>\n",
       "      <td>0.583072</td>\n",
       "      <td>-0.733411</td>\n",
       "      <td>other</td>\n",
       "    </tr>\n",
       "    <tr>\n",
       "      <th>719</th>\n",
       "      <td>chr5</td>\n",
       "      <td>173391003</td>\n",
       "      <td>173392003</td>\n",
       "      <td>1609640</td>\n",
       "      <td>1.145941</td>\n",
       "      <td>0.897721</td>\n",
       "      <td>-0.248220</td>\n",
       "      <td>nochange</td>\n",
       "    </tr>\n",
       "    <tr>\n",
       "      <th>720</th>\n",
       "      <td>chr5</td>\n",
       "      <td>78641823</td>\n",
       "      <td>78642823</td>\n",
       "      <td>1538612</td>\n",
       "      <td>3.260180</td>\n",
       "      <td>1.707335</td>\n",
       "      <td>-1.552845</td>\n",
       "      <td>decrease</td>\n",
       "    </tr>\n",
       "  </tbody>\n",
       "</table>\n",
       "<p>721 rows × 8 columns</p>\n",
       "</div>"
      ],
      "text/plain": [
       "     chrom      start        end  build_region_index        wt     ep300  \\\n",
       "0     chr6   13307232   13308232             1627400  0.988957  1.383105   \n",
       "1     chr1  231663746  231664746              169607  2.480708  1.939403   \n",
       "2    chr10    1155940    1156940              184962  1.392505  0.855324   \n",
       "3     chrX  113511225  113512225             2114528  0.991057  1.175906   \n",
       "4     chr1  103345556  103346556               84878  0.890820  0.090186   \n",
       "..     ...        ...        ...                 ...       ...       ...   \n",
       "716   chr4  189862154  189863154             1481367  1.957393  0.597990   \n",
       "717   chr2  194444725  194445725             1059645  0.412500  0.639412   \n",
       "718  chr10    3509192    3510192              186897  1.316483  0.583072   \n",
       "719   chr5  173391003  173392003             1609640  1.145941  0.897721   \n",
       "720   chr5   78641823   78642823             1538612  3.260180  1.707335   \n",
       "\n",
       "         diff      kind  \n",
       "0    0.394148  nochange  \n",
       "1   -0.541304     other  \n",
       "2   -0.537181     other  \n",
       "3    0.184849  nochange  \n",
       "4   -0.800634     other  \n",
       "..        ...       ...  \n",
       "716 -1.359403  decrease  \n",
       "717  0.226912  nochange  \n",
       "718 -0.733411     other  \n",
       "719 -0.248220  nochange  \n",
       "720 -1.552845  decrease  \n",
       "\n",
       "[721 rows x 8 columns]"
      ]
     },
     "execution_count": 16,
     "metadata": {},
     "output_type": "execute_result"
    }
   ],
   "source": [
    "df_supervised = pd.read_csv(supervised_file)\n",
    "df_supervised"
   ]
  },
  {
   "cell_type": "code",
   "execution_count": 17,
   "metadata": {},
   "outputs": [
    {
     "name": "stdout",
     "output_type": "stream",
     "text": [
      "update path: hdf5_file = hg38_6k_1kb.hdf5\n",
      "update path: meta_file = config/hg38_6k_meta.json\n",
      "{\n",
      "    \"hdf5_file\": \"/home/yangdongxu/.cache/chrombert/data/hg38_6k_1kb.hdf5\",\n",
      "    \"supervised_file\": \"/home/yangdongxu/.cache/chrombert/data/demo/starr/supervised.csv\",\n",
      "    \"kind\": \"GeneralDataset\",\n",
      "    \"meta_file\": \"/home/yangdongxu/.cache/chrombert/data/config/hg38_6k_meta.json\",\n",
      "    \"ignore\": true,\n",
      "    \"ignore_object\": \"5hmC;ATAC-seq;DNase;FAIRE;H1.0;H1.4;H2A;H2A.Bbd;H2A.Z;H2A.Zac;H2AFX;H2AFY;H2AK119ub;H2AK5ac;H2AX;H2AZ;H2AZK4ac, H2AZK7ac, H2AZK11ac;H2AZac;H2BK120ac;H2BK120ub;H2BK12ac;H2BK15ac;H2BK20ac;H2BK5ac;H2Bub;H3;H3-T45ph;H3.3;H3.3,H2A.Z;H3F3A;H3F3B;H3K122ac;H3K14ac;H3K18ac;H3K18cr;H3K23ac;H3K23me2;H3K27ac;H3K27me1;H3K27me3;H3K27me3/H3K4me3;H3K36ac;H3K36me1;H3K36me2;H3K36me3;H3K4ac;H3K4me1;H3K4me2;H3K4me3;H3K56ac;H3K79me1;H3K79me2;H3K79me3;H3K9/14ac;H3K9K14ac;H3K9ac;H3K9me1;H3K9me2;H3K9me3;H3Kac;H3R26Cit;H3T11ph;H3T6ph;H3Y;H3ac;H4;H4K12ac;H4K16ac;H4K20me1;H4K20me3;H4K5ac;H4K5ac, H4K8ac, H4K12ac, H4K16ac;H4K8ac;H4K91ac;H4TetraAc;H4ac;Histone Lysine Acetylation;Histone Lysine Crotonylation;Input;Rloop;macroH2A1;macroH2A2\",\n",
      "    \"batch_size\": 4,\n",
      "    \"num_workers\": 20,\n",
      "    \"shuffle\": false,\n",
      "    \"pin_memory\": true,\n",
      "    \"perturbation\": false,\n",
      "    \"perturbation_object\": \"none\",\n",
      "    \"perturbation_value\": 0,\n",
      "    \"prompt_kind\": null,\n",
      "    \"prompt_regulator\": null,\n",
      "    \"prompt_regulator_cache_file\": null,\n",
      "    \"prompt_celltype\": null,\n",
      "    \"prompt_celltype_cache_file\": null,\n",
      "    \"prompt_regulator_cache_pin_memory\": false,\n",
      "    \"prompt_regulator_cache_limit\": 3,\n",
      "    \"fasta_file\": null,\n",
      "    \"flank_window\": 0\n",
      "}\n",
      "{\n",
      "    \"hdf5_file\": \"/home/yangdongxu/.cache/chrombert/data/hg38_6k_1kb.hdf5\",\n",
      "    \"supervised_file\": \"/home/yangdongxu/.cache/chrombert/data/demo/starr/supervised.csv\",\n",
      "    \"kind\": \"GeneralDataset\",\n",
      "    \"meta_file\": \"/home/yangdongxu/.cache/chrombert/data/config/hg38_6k_meta.json\",\n",
      "    \"ignore\": true,\n",
      "    \"ignore_object\": \"5hmC;ATAC-seq;DNase;FAIRE;H1.0;H1.4;H2A;H2A.Bbd;H2A.Z;H2A.Zac;H2AFX;H2AFY;H2AK119ub;H2AK5ac;H2AX;H2AZ;H2AZK4ac, H2AZK7ac, H2AZK11ac;H2AZac;H2BK120ac;H2BK120ub;H2BK12ac;H2BK15ac;H2BK20ac;H2BK5ac;H2Bub;H3;H3-T45ph;H3.3;H3.3,H2A.Z;H3F3A;H3F3B;H3K122ac;H3K14ac;H3K18ac;H3K18cr;H3K23ac;H3K23me2;H3K27ac;H3K27me1;H3K27me3;H3K27me3/H3K4me3;H3K36ac;H3K36me1;H3K36me2;H3K36me3;H3K4ac;H3K4me1;H3K4me2;H3K4me3;H3K56ac;H3K79me1;H3K79me2;H3K79me3;H3K9/14ac;H3K9K14ac;H3K9ac;H3K9me1;H3K9me2;H3K9me3;H3Kac;H3R26Cit;H3T11ph;H3T6ph;H3Y;H3ac;H4;H4K12ac;H4K16ac;H4K20me1;H4K20me3;H4K5ac;H4K5ac, H4K8ac, H4K12ac, H4K16ac;H4K8ac;H4K91ac;H4TetraAc;H4ac;Histone Lysine Acetylation;Histone Lysine Crotonylation;Input;Rloop;macroH2A1;macroH2A2\",\n",
      "    \"batch_size\": 4,\n",
      "    \"num_workers\": 20,\n",
      "    \"shuffle\": false,\n",
      "    \"pin_memory\": true,\n",
      "    \"perturbation\": true,\n",
      "    \"perturbation_object\": \"crebbp;ep300\",\n",
      "    \"perturbation_value\": 0,\n",
      "    \"prompt_kind\": null,\n",
      "    \"prompt_regulator\": null,\n",
      "    \"prompt_regulator_cache_file\": null,\n",
      "    \"prompt_celltype\": null,\n",
      "    \"prompt_celltype_cache_file\": null,\n",
      "    \"prompt_regulator_cache_pin_memory\": false,\n",
      "    \"prompt_regulator_cache_limit\": 3,\n",
      "    \"fasta_file\": null,\n",
      "    \"flank_window\": 0\n",
      "}\n"
     ]
    },
    {
     "data": {
      "text/plain": [
       "(None, None)"
      ]
     },
     "execution_count": 17,
     "metadata": {},
     "output_type": "execute_result"
    }
   ],
   "source": [
    "# We configure the dataset for wild-type and perturbed states.\n",
    "# For the wild-type dataset, we set perturbation to False and perturbation_object to \"none\".\n",
    "dc_wt = chrombert.get_preset_dataset_config(\n",
    "    \"general\", \n",
    "    ignore = True, \n",
    "    ignore_object = ignores,\n",
    "    perturbation = False, # for the wild-type dataset, we set perturbation to False\n",
    "    perturbation_object = \"none\", # we set it to \"none\" to make sure the perturbation is not applied\n",
    "    perturbation_value = 0, \n",
    "    supervised_file = supervised_file,\n",
    "    shuffle = False,\n",
    "    batch_size = 4\n",
    ")\n",
    "# For the perturbed dataset, we set perturbation to True and perturbation_object to \"crebbp;ep300\" to apply the perturbation.\n",
    "dc_ep300 = dc_wt.clone(perturbation=True,perturbation_object = \"crebbp;ep300\") \n",
    "print(dc_wt), print(dc_ep300)"
   ]
  },
  {
   "cell_type": "code",
   "execution_count": 18,
   "metadata": {},
   "outputs": [
    {
     "name": "stdout",
     "output_type": "stream",
     "text": [
      "Your supervised_file does not contain the 'label' column. Please verify whether ground truth column ('label') is required. If it is not needed, you may disregard this message.\n",
      "Your supervised_file does not contain the 'label' column. Please verify whether ground truth column ('label') is required. If it is not needed, you may disregard this message.\n",
      "use perturbation_object in dataset config which high priority than supervised_file\n"
     ]
    },
    {
     "data": {
      "text/plain": [
       "({'input_ids': tensor([6, 6, 8,  ..., 9, 6, 9], dtype=torch.int8),\n",
       "  'position_ids': tensor([ 953,  959, 1147,  ..., 6388, 6389, 6391]),\n",
       "  'region': tensor([        1, 231528000, 231529000], dtype=torch.int32),\n",
       "  'build_region_index': 169607,\n",
       "  'ignore_index': (array([2634, 2370, 1105, ..., 1994, 2237,  383]),\n",
       "   array([  0,  27, 146, 213, 276, 277, 278, 279, 280, 281, 282, 283, 284,\n",
       "          285, 286, 287, 288, 289, 290, 291, 292, 293, 294, 295, 296, 297,\n",
       "          298, 299, 300, 301, 302, 303, 304, 305, 306, 307, 308, 309, 310,\n",
       "          311, 312, 313, 314, 315, 316, 317, 318, 319, 320, 321, 322, 323,\n",
       "          324, 325, 326, 327, 328, 329, 330, 331, 332, 333, 334, 335, 336,\n",
       "          337, 338, 339, 340, 341, 342, 343, 344, 345, 346, 347, 369, 370,\n",
       "          406, 474, 475, 672]))},\n",
       " {'input_ids': tensor([6, 6, 8,  ..., 9, 6, 9], dtype=torch.int8),\n",
       "  'position_ids': tensor([ 953,  959, 1147,  ..., 6388, 6389, 6391]),\n",
       "  'region': tensor([        1, 231528000, 231529000], dtype=torch.int32),\n",
       "  'build_region_index': 169607,\n",
       "  'ignore_index': (array([2634, 2370, 1105, ..., 1994, 2237,  383]),\n",
       "   array([  0,  27, 146, 213, 276, 277, 278, 279, 280, 281, 282, 283, 284,\n",
       "          285, 286, 287, 288, 289, 290, 291, 292, 293, 294, 295, 296, 297,\n",
       "          298, 299, 300, 301, 302, 303, 304, 305, 306, 307, 308, 309, 310,\n",
       "          311, 312, 313, 314, 315, 316, 317, 318, 319, 320, 321, 322, 323,\n",
       "          324, 325, 326, 327, 328, 329, 330, 331, 332, 333, 334, 335, 336,\n",
       "          337, 338, 339, 340, 341, 342, 343, 344, 345, 346, 347, 369, 370,\n",
       "          406, 474, 475, 672]))})"
      ]
     },
     "execution_count": 18,
     "metadata": {},
     "output_type": "execute_result"
    }
   ],
   "source": [
    "# Initialize the datasets\n",
    "ds_wt = dc_wt.init_dataset()\n",
    "ds_ep300 = dc_ep300.init_dataset()\n",
    "# Display the first sample from each dataset\n",
    "ds_wt[1], ds_ep300[1]"
   ]
  },
  {
   "cell_type": "code",
   "execution_count": 19,
   "metadata": {},
   "outputs": [
    {
     "data": {
      "text/plain": [
       "(array([   0,    0,    0,    0,    0,  112,  857,  220,  354, 1791]),\n",
       " array([   0,    0,    0,    0,    0,   61,  866,  224,  363, 1820]))"
      ]
     },
     "execution_count": 19,
     "metadata": {},
     "output_type": "execute_result"
    }
   ],
   "source": [
    "# some input signal levels are perturbed\n",
    "np.bincount(ds_ep300[1][\"input_ids\"].numpy()), np.bincount(ds_wt[1][\"input_ids\"].numpy())"
   ]
  },
  {
   "cell_type": "markdown",
   "metadata": {},
   "source": [
    "## Forward: get predictions"
   ]
  },
  {
   "cell_type": "code",
   "execution_count": 20,
   "metadata": {},
   "outputs": [
    {
     "name": "stdout",
     "output_type": "stream",
     "text": [
      "Your supervised_file does not contain the 'label' column. Please verify whether ground truth column ('label') is required. If it is not needed, you may disregard this message.\n",
      "Your supervised_file does not contain the 'label' column. Please verify whether ground truth column ('label') is required. If it is not needed, you may disregard this message.\n",
      "use perturbation_object in dataset config which high priority than supervised_file\n"
     ]
    },
    {
     "name": "stderr",
     "output_type": "stream",
     "text": [
      "181it [00:15, 11.97it/s]\n"
     ]
    }
   ],
   "source": [
    "list_wt = []\n",
    "list_ep300 = []\n",
    "for (batch_wt, batch_ep300) in tqdm(zip(dc_wt.init_dataloader(), dc_ep300.init_dataloader())):\n",
    "    for k,v in batch_wt.items():\n",
    "        if isinstance(v, torch.Tensor):\n",
    "            batch_wt[k] = v.cuda()\n",
    "            batch_ep300[k] = batch_ep300[k].cuda()\n",
    "    \n",
    "    with torch.no_grad():\n",
    "        logit_wt = model(batch_wt).float().cpu().numpy() # get the predictions of wild-type\n",
    "        logit_ep300 = model(batch_ep300).float().cpu().numpy() # get the predictions of EP300 perturbation\n",
    "    list_wt.append(logit_wt)\n",
    "    list_ep300.append(logit_ep300)\n",
    "\n",
    "logits_wt = np.concatenate(list_wt, axis=0).reshape(-1)\n",
    "logits_ep300 = np.concatenate(list_ep300, axis=0).reshape(-1)"
   ]
  },
  {
   "cell_type": "code",
   "execution_count": 21,
   "metadata": {},
   "outputs": [
    {
     "data": {
      "text/plain": [
       "((721,), (721,))"
      ]
     },
     "execution_count": 21,
     "metadata": {},
     "output_type": "execute_result"
    }
   ],
   "source": [
    "logits_wt.shape, logits_ep300.shape"
   ]
  },
  {
   "cell_type": "code",
   "execution_count": 22,
   "metadata": {},
   "outputs": [
    {
     "data": {
      "image/png": "[encoded data removed]",
      "text/plain": [
       "<Figure size 1500x500 with 3 Axes>"
      ]
     },
     "metadata": {},
     "output_type": "display_data"
    }
   ],
   "source": [
    "# We show the performance here. \n",
    "# Note: the performance is not good enough because the model is not well-trained.\n",
    "fig, axs = plt.subplots(1,3,figsize=(15,5))\n",
    "signal_wt = df_supervised[\"wt\"].values\n",
    "signal_ep300 = df_supervised[\"ep300\"].values\n",
    "\n",
    "ax = axs[0]\n",
    "ax.scatter(signal_wt, logits_wt, s=1)\n",
    "ax.set_xlabel(\"True Signal Level\")\n",
    "ax.set_ylabel(\"Predicted Signal Level\")\n",
    "ax.set_title(\"Wild-type\")\n",
    "pcc = scipy.stats.pearsonr(signal_wt, logits_wt)[0]\n",
    "ax.text(0.1, 0.9, f\"PCC: {pcc:.2f}\", transform=ax.transAxes)\n",
    "\n",
    "ax = axs[1]\n",
    "ax.scatter(signal_ep300, logits_ep300, s=1)\n",
    "ax.set_xlabel(\"True Signal Level\")\n",
    "ax.set_ylabel(\"Predicted Signal Level\")\n",
    "ax.set_title(\"EP300 Perturbation\")\n",
    "pcc = scipy.stats.pearsonr(signal_ep300, logits_ep300)[0]\n",
    "ax.text(0.1, 0.9, f\"PCC: {pcc:.2f}\", transform=ax.transAxes)\n",
    "\n",
    "\n",
    "ax = axs[2]\n",
    "logit_diff = logits_ep300 - logits_wt\n",
    "signal_diff = signal_ep300 - signal_wt\n",
    "ax.scatter(signal_diff, logit_diff, s=1)\n",
    "ax.set_xlabel(\"True Signal Level Ratio\")\n",
    "ax.set_ylabel(\"Predicted Signal Level Ratio\")\n",
    "ax.set_title(\"EP300 / Wild-type\")\n",
    "pcc = scipy.stats.pearsonr(signal_diff, logit_diff)[0]\n",
    "ax.text(0.1, 0.9, f\"PCC: {pcc:.2f}\", transform=ax.transAxes)\n",
    "\n",
    "plt.show()"
   ]
  },
  {
   "cell_type": "markdown",
   "metadata": {},
   "source": [
    "## Forward: get embeddings\n",
    "We use the regulator embedding from wild type and perturbed states to calculate distance of regulator embeddings.  \n",
    "Intuitively, the distance of regulator embeddings on enhancers sensitive to EP300/CREBBP perturbation is larger than the non-sensitive ones, and regulators associated with EP300/CREBBP should have larger distance on sensitive enhancers. \n"
   ]
  },
  {
   "cell_type": "code",
   "execution_count": 23,
   "metadata": {},
   "outputs": [
    {
     "name": "stdout",
     "output_type": "stream",
     "text": [
      "Ignoring 3057 cistromes and 82 regulators\n",
      "Your supervised_file does not contain the 'label' column. Please verify whether ground truth column ('label') is required. If it is not needed, you may disregard this message.\n",
      "Your supervised_file does not contain the 'label' column. Please verify whether ground truth column ('label') is required. If it is not needed, you may disregard this message.\n",
      "use perturbation_object in dataset config which high priority than supervised_file\n"
     ]
    },
    {
     "name": "stderr",
     "output_type": "stream",
     "text": [
      "181it [02:11,  1.37it/s]\n"
     ]
    }
   ],
   "source": [
    "from chrombert.scripts.utils import HDF5Manager # We provide a convenient class for storing embeddings\n",
    "\n",
    "if not os.path.exists(\"tmp_starr\"):\n",
    "    os.makedirs(\"tmp_starr\")\n",
    "\n",
    "model_emb = model.get_embedding_manager()\n",
    "\n",
    "dict_shapes = {\n",
    "    \"region\":((len(ds_wt), 4), int), \n",
    "    \"wt\":((len(ds_wt),len(model_emb.list_regulator), 768), np.float16), \n",
    "    \"ep300\":((len(ds_wt),len(model_emb.list_regulator), 768), np.float16)\n",
    "    } # initialize the shapes of the data to be stored in the HDF5 file\n",
    "with HDF5Manager(os.path.join(\"tmp_starr\",\"starr_emb.h5\"), **dict_shapes) as h5:\n",
    "    for (batch_wt, batch_ep300) in tqdm(zip(dc_wt.init_dataloader(), dc_ep300.init_dataloader())):\n",
    "        region = np.concatenate([\n",
    "            batch_wt[\"region\"].long().cpu().numpy(), \n",
    "            batch_wt[\"build_region_index\"].long().cpu().unsqueeze(-1).numpy()\n",
    "            ], axis = 1\n",
    "        )\n",
    "        for k,v in batch_wt.items():\n",
    "            if isinstance(v, torch.Tensor):\n",
    "                batch_wt[k] = v.cuda()\n",
    "                batch_ep300[k] = batch_ep300[k].cuda()\n",
    "        \n",
    "        with torch.no_grad():\n",
    "            emb_wt = model_emb(batch_wt).float().cpu().numpy() # get the embeddings of wild-type\n",
    "            emb_ep300 = model_emb(batch_ep300).float().cpu().numpy() # get the embeddings of EP300 perturbation\n",
    "        h5.insert(\n",
    "            **{\"region\":region, \"wt\":emb_wt, \"ep300\":emb_ep300}\n",
    "            )\n",
    "    "
   ]
  },
  {
   "cell_type": "code",
   "execution_count": 24,
   "metadata": {},
   "outputs": [
    {
     "data": {
      "text/plain": [
       "(['adnp',\n",
       "  'aebp2',\n",
       "  'aff1',\n",
       "  'aff4',\n",
       "  'ago1',\n",
       "  'ago2',\n",
       "  'ahr',\n",
       "  'ahrr',\n",
       "  'alkbh3',\n",
       "  'anp32e'],\n",
       " 991)"
      ]
     },
     "execution_count": 24,
     "metadata": {},
     "output_type": "execute_result"
    }
   ],
   "source": [
    "list_factors = model_emb.list_regulator\n",
    "list_factors[:10],len(list_factors)"
   ]
  },
  {
   "cell_type": "code",
   "execution_count": 25,
   "metadata": {},
   "outputs": [
    {
     "data": {
      "text/html": [
       "<div>\n",
       "<style scoped>\n",
       "    .dataframe tbody tr th:only-of-type {\n",
       "        vertical-align: middle;\n",
       "    }\n",
       "\n",
       "    .dataframe tbody tr th {\n",
       "        vertical-align: top;\n",
       "    }\n",
       "\n",
       "    .dataframe thead th {\n",
       "        text-align: right;\n",
       "    }\n",
       "</style>\n",
       "<table border=\"1\" class=\"dataframe\">\n",
       "  <thead>\n",
       "    <tr style=\"text-align: right;\">\n",
       "      <th></th>\n",
       "      <th>factor</th>\n",
       "      <th>sim</th>\n",
       "      <th>source</th>\n",
       "    </tr>\n",
       "  </thead>\n",
       "  <tbody>\n",
       "    <tr>\n",
       "      <th>0</th>\n",
       "      <td>adnp</td>\n",
       "      <td>0.999221</td>\n",
       "      <td>decreased</td>\n",
       "    </tr>\n",
       "    <tr>\n",
       "      <th>1</th>\n",
       "      <td>aebp2</td>\n",
       "      <td>0.999145</td>\n",
       "      <td>decreased</td>\n",
       "    </tr>\n",
       "    <tr>\n",
       "      <th>2</th>\n",
       "      <td>aff1</td>\n",
       "      <td>0.999035</td>\n",
       "      <td>decreased</td>\n",
       "    </tr>\n",
       "    <tr>\n",
       "      <th>3</th>\n",
       "      <td>aff4</td>\n",
       "      <td>0.998830</td>\n",
       "      <td>decreased</td>\n",
       "    </tr>\n",
       "    <tr>\n",
       "      <th>4</th>\n",
       "      <td>ago1</td>\n",
       "      <td>0.999297</td>\n",
       "      <td>decreased</td>\n",
       "    </tr>\n",
       "    <tr>\n",
       "      <th>...</th>\n",
       "      <td>...</td>\n",
       "      <td>...</td>\n",
       "      <td>...</td>\n",
       "    </tr>\n",
       "    <tr>\n",
       "      <th>986</th>\n",
       "      <td>zscan5a</td>\n",
       "      <td>0.999392</td>\n",
       "      <td>decreased</td>\n",
       "    </tr>\n",
       "    <tr>\n",
       "      <th>987</th>\n",
       "      <td>zta</td>\n",
       "      <td>0.999194</td>\n",
       "      <td>decreased</td>\n",
       "    </tr>\n",
       "    <tr>\n",
       "      <th>988</th>\n",
       "      <td>zxdb</td>\n",
       "      <td>0.999416</td>\n",
       "      <td>decreased</td>\n",
       "    </tr>\n",
       "    <tr>\n",
       "      <th>989</th>\n",
       "      <td>zxdc</td>\n",
       "      <td>0.999589</td>\n",
       "      <td>decreased</td>\n",
       "    </tr>\n",
       "    <tr>\n",
       "      <th>990</th>\n",
       "      <td>zzz3</td>\n",
       "      <td>0.998278</td>\n",
       "      <td>decreased</td>\n",
       "    </tr>\n",
       "  </tbody>\n",
       "</table>\n",
       "<p>991 rows × 3 columns</p>\n",
       "</div>"
      ],
      "text/plain": [
       "      factor       sim     source\n",
       "0       adnp  0.999221  decreased\n",
       "1      aebp2  0.999145  decreased\n",
       "2       aff1  0.999035  decreased\n",
       "3       aff4  0.998830  decreased\n",
       "4       ago1  0.999297  decreased\n",
       "..       ...       ...        ...\n",
       "986  zscan5a  0.999392  decreased\n",
       "987      zta  0.999194  decreased\n",
       "988     zxdb  0.999416  decreased\n",
       "989     zxdc  0.999589  decreased\n",
       "990     zzz3  0.998278  decreased\n",
       "\n",
       "[991 rows x 3 columns]"
      ]
     },
     "execution_count": 25,
     "metadata": {},
     "output_type": "execute_result"
    }
   ],
   "source": [
    "# Distance of embeddings on sensitive enhancers\n",
    "with h5py.File(os.path.join(\"tmp_starr\",\"starr_emb.h5\"), \"r\") as f:\n",
    "    emb_decrease_wt = f[\"wt\"][df_supervised[\"kind\"] == \"decrease\",...].mean(axis = 0)\n",
    "    emb_decrease_ep300 = f[\"ep300\"][df_supervised[\"kind\"] == \"decrease\",...].mean(axis = 0)\n",
    "sims = np.diagonal(cosine_similarity(emb_decrease_wt, emb_decrease_ep300))\n",
    "df_sim_decreased = pd.DataFrame({\"factor\": list_factors, \"sim\": sims,\"source\": \"decreased\"})\n",
    "df_sim_decreased"
   ]
  },
  {
   "cell_type": "code",
   "execution_count": 26,
   "metadata": {},
   "outputs": [
    {
     "data": {
      "text/html": [
       "<div>\n",
       "<style scoped>\n",
       "    .dataframe tbody tr th:only-of-type {\n",
       "        vertical-align: middle;\n",
       "    }\n",
       "\n",
       "    .dataframe tbody tr th {\n",
       "        vertical-align: top;\n",
       "    }\n",
       "\n",
       "    .dataframe thead th {\n",
       "        text-align: right;\n",
       "    }\n",
       "</style>\n",
       "<table border=\"1\" class=\"dataframe\">\n",
       "  <thead>\n",
       "    <tr style=\"text-align: right;\">\n",
       "      <th></th>\n",
       "      <th>factor</th>\n",
       "      <th>sim</th>\n",
       "      <th>source</th>\n",
       "    </tr>\n",
       "  </thead>\n",
       "  <tbody>\n",
       "    <tr>\n",
       "      <th>0</th>\n",
       "      <td>adnp</td>\n",
       "      <td>0.999463</td>\n",
       "      <td>nochange</td>\n",
       "    </tr>\n",
       "    <tr>\n",
       "      <th>1</th>\n",
       "      <td>aebp2</td>\n",
       "      <td>0.999323</td>\n",
       "      <td>nochange</td>\n",
       "    </tr>\n",
       "    <tr>\n",
       "      <th>2</th>\n",
       "      <td>aff1</td>\n",
       "      <td>0.999344</td>\n",
       "      <td>nochange</td>\n",
       "    </tr>\n",
       "    <tr>\n",
       "      <th>3</th>\n",
       "      <td>aff4</td>\n",
       "      <td>0.999247</td>\n",
       "      <td>nochange</td>\n",
       "    </tr>\n",
       "    <tr>\n",
       "      <th>4</th>\n",
       "      <td>ago1</td>\n",
       "      <td>0.999504</td>\n",
       "      <td>nochange</td>\n",
       "    </tr>\n",
       "    <tr>\n",
       "      <th>...</th>\n",
       "      <td>...</td>\n",
       "      <td>...</td>\n",
       "      <td>...</td>\n",
       "    </tr>\n",
       "    <tr>\n",
       "      <th>986</th>\n",
       "      <td>zscan5a</td>\n",
       "      <td>0.999555</td>\n",
       "      <td>nochange</td>\n",
       "    </tr>\n",
       "    <tr>\n",
       "      <th>987</th>\n",
       "      <td>zta</td>\n",
       "      <td>0.999570</td>\n",
       "      <td>nochange</td>\n",
       "    </tr>\n",
       "    <tr>\n",
       "      <th>988</th>\n",
       "      <td>zxdb</td>\n",
       "      <td>0.999606</td>\n",
       "      <td>nochange</td>\n",
       "    </tr>\n",
       "    <tr>\n",
       "      <th>989</th>\n",
       "      <td>zxdc</td>\n",
       "      <td>0.999685</td>\n",
       "      <td>nochange</td>\n",
       "    </tr>\n",
       "    <tr>\n",
       "      <th>990</th>\n",
       "      <td>zzz3</td>\n",
       "      <td>0.998991</td>\n",
       "      <td>nochange</td>\n",
       "    </tr>\n",
       "  </tbody>\n",
       "</table>\n",
       "<p>991 rows × 3 columns</p>\n",
       "</div>"
      ],
      "text/plain": [
       "      factor       sim    source\n",
       "0       adnp  0.999463  nochange\n",
       "1      aebp2  0.999323  nochange\n",
       "2       aff1  0.999344  nochange\n",
       "3       aff4  0.999247  nochange\n",
       "4       ago1  0.999504  nochange\n",
       "..       ...       ...       ...\n",
       "986  zscan5a  0.999555  nochange\n",
       "987      zta  0.999570  nochange\n",
       "988     zxdb  0.999606  nochange\n",
       "989     zxdc  0.999685  nochange\n",
       "990     zzz3  0.998991  nochange\n",
       "\n",
       "[991 rows x 3 columns]"
      ]
     },
     "execution_count": 26,
     "metadata": {},
     "output_type": "execute_result"
    }
   ],
   "source": [
    "# Distance of embeddings on non-sensitive enhancers\n",
    "with h5py.File(os.path.join(\"tmp_starr\",\"starr_emb.h5\"), \"r\") as f:\n",
    "    emb_nochange_wt = f[\"wt\"][df_supervised[\"kind\"] == \"nochange\",...].mean(axis = 0)\n",
    "    emb_nochange_ep300 = f[\"ep300\"][df_supervised[\"kind\"] == \"nochange\",...].mean(axis = 0)\n",
    "sims = np.diagonal(cosine_similarity(emb_nochange_wt, emb_nochange_ep300))\n",
    "df_sim_nochange = pd.DataFrame({\"factor\": list_factors, \"sim\": sims,\"source\": \"nochange\"})\n",
    "df_sim_nochange"
   ]
  },
  {
   "cell_type": "code",
   "execution_count": 27,
   "metadata": {},
   "outputs": [
    {
     "data": {
      "text/html": [
       "<div>\n",
       "<style scoped>\n",
       "    .dataframe tbody tr th:only-of-type {\n",
       "        vertical-align: middle;\n",
       "    }\n",
       "\n",
       "    .dataframe tbody tr th {\n",
       "        vertical-align: top;\n",
       "    }\n",
       "\n",
       "    .dataframe thead th {\n",
       "        text-align: right;\n",
       "    }\n",
       "</style>\n",
       "<table border=\"1\" class=\"dataframe\">\n",
       "  <thead>\n",
       "    <tr style=\"text-align: right;\">\n",
       "      <th>source</th>\n",
       "      <th>decreased</th>\n",
       "      <th>nochange</th>\n",
       "    </tr>\n",
       "    <tr>\n",
       "      <th>factor</th>\n",
       "      <th></th>\n",
       "      <th></th>\n",
       "    </tr>\n",
       "  </thead>\n",
       "  <tbody>\n",
       "    <tr>\n",
       "      <th>adnp</th>\n",
       "      <td>0.000779</td>\n",
       "      <td>0.000537</td>\n",
       "    </tr>\n",
       "    <tr>\n",
       "      <th>aebp2</th>\n",
       "      <td>0.000855</td>\n",
       "      <td>0.000677</td>\n",
       "    </tr>\n",
       "    <tr>\n",
       "      <th>aff1</th>\n",
       "      <td>0.000965</td>\n",
       "      <td>0.000656</td>\n",
       "    </tr>\n",
       "    <tr>\n",
       "      <th>aff4</th>\n",
       "      <td>0.001170</td>\n",
       "      <td>0.000753</td>\n",
       "    </tr>\n",
       "    <tr>\n",
       "      <th>ago1</th>\n",
       "      <td>0.000703</td>\n",
       "      <td>0.000496</td>\n",
       "    </tr>\n",
       "    <tr>\n",
       "      <th>...</th>\n",
       "      <td>...</td>\n",
       "      <td>...</td>\n",
       "    </tr>\n",
       "    <tr>\n",
       "      <th>zscan5a</th>\n",
       "      <td>0.000608</td>\n",
       "      <td>0.000445</td>\n",
       "    </tr>\n",
       "    <tr>\n",
       "      <th>zta</th>\n",
       "      <td>0.000806</td>\n",
       "      <td>0.000430</td>\n",
       "    </tr>\n",
       "    <tr>\n",
       "      <th>zxdb</th>\n",
       "      <td>0.000584</td>\n",
       "      <td>0.000394</td>\n",
       "    </tr>\n",
       "    <tr>\n",
       "      <th>zxdc</th>\n",
       "      <td>0.000411</td>\n",
       "      <td>0.000315</td>\n",
       "    </tr>\n",
       "    <tr>\n",
       "      <th>zzz3</th>\n",
       "      <td>0.001722</td>\n",
       "      <td>0.001009</td>\n",
       "    </tr>\n",
       "  </tbody>\n",
       "</table>\n",
       "<p>991 rows × 2 columns</p>\n",
       "</div>"
      ],
      "text/plain": [
       "source   decreased  nochange\n",
       "factor                      \n",
       "adnp      0.000779  0.000537\n",
       "aebp2     0.000855  0.000677\n",
       "aff1      0.000965  0.000656\n",
       "aff4      0.001170  0.000753\n",
       "ago1      0.000703  0.000496\n",
       "...            ...       ...\n",
       "zscan5a   0.000608  0.000445\n",
       "zta       0.000806  0.000430\n",
       "zxdb      0.000584  0.000394\n",
       "zxdc      0.000411  0.000315\n",
       "zzz3      0.001722  0.001009\n",
       "\n",
       "[991 rows x 2 columns]"
      ]
     },
     "execution_count": 27,
     "metadata": {},
     "output_type": "execute_result"
    }
   ],
   "source": [
    "# Stack the results\n",
    "df_sim = pd.concat([df_sim_decreased, df_sim_nochange]).set_index([\"factor\",\"source\"])[\"sim\"].unstack()\n",
    "df_shift = 1 - df_sim\n",
    "df_shift"
   ]
  },
  {
   "cell_type": "markdown",
   "metadata": {},
   "source": [
    "We observe larger embedding shift of EP300/CREBBP sensitive enhancers here"
   ]
  },
  {
   "cell_type": "code",
   "execution_count": 28,
   "metadata": {},
   "outputs": [
    {
     "name": "stderr",
     "output_type": "stream",
     "text": [
      "/tmp/ipykernel_1705212/443859759.py:2: MatplotlibDeprecationWarning: The 'labels' parameter of boxplot() has been renamed 'tick_labels' since Matplotlib 3.9; support for the old name will be dropped in 3.11.\n",
      "  plt.boxplot([df_shift[\"decreased\"], df_shift[\"nochange\"]], labels = [\"Decreased\", \"No Change\"], showfliers=False)\n"
     ]
    },
    {
     "data": {
      "image/png": "[encoded data removed]",
      "text/plain": [
       "<Figure size 640x480 with 1 Axes>"
      ]
     },
     "metadata": {},
     "output_type": "display_data"
    },
    {
     "data": {
      "text/plain": [
       "TtestResult(statistic=0.9246101672047551, pvalue=0.3552813911246604, df=1980.0)"
      ]
     },
     "execution_count": 28,
     "metadata": {},
     "output_type": "execute_result"
    }
   ],
   "source": [
    "# Boxplot of embedding shifts, showing larger shift on sensitive enhancers\n",
    "plt.boxplot([df_shift[\"decreased\"], df_shift[\"nochange\"]], labels = [\"Decreased\", \"No Change\"], showfliers=False)\n",
    "plt.show()\n",
    "scipy.stats.ttest_ind(df_shift[\"decreased\"], df_shift[\"nochange\"])"
   ]
  },
  {
   "cell_type": "markdown",
   "metadata": {},
   "source": [
    "We can also observe larger embedding shift of EP300/CREBBP associated regulators on sensitive enhancers. "
   ]
  },
  {
   "cell_type": "code",
   "execution_count": 29,
   "metadata": {},
   "outputs": [
    {
     "data": {
      "text/plain": [
       "med1       0.912179\n",
       "brd4       0.898527\n",
       "smarca4    0.887474\n",
       "myc        0.884520\n",
       "foxm1      0.877207\n",
       "tcf12      0.869119\n",
       "rxra       0.864270\n",
       "stat3      0.860204\n",
       "nr3c1      0.856566\n",
       "rela       0.854440\n",
       "nipbl      0.851435\n",
       "cdk9       0.844094\n",
       "ets1       0.843467\n",
       "tcf7l2     0.843425\n",
       "sox2       0.835494\n",
       "runx1      0.834055\n",
       "e2f1       0.831583\n",
       "cdk8       0.830999\n",
       "stat1      0.830734\n",
       "tal1       0.822797\n",
       "sin3a      0.819663\n",
       "hdac2      0.819198\n",
       "smarcc1    0.816048\n",
       "rbpj       0.815343\n",
       "smad1      0.814176\n",
       "tead4      0.811195\n",
       "e2f4       0.810752\n",
       "junb       0.810572\n",
       "gabpa      0.809529\n",
       "bcl11a     0.808997\n",
       "chd1       0.808096\n",
       "tp53       0.807762\n",
       "sp1        0.807046\n",
       "gata2      0.804436\n",
       "hdac1      0.802669\n",
       "smad3      0.802053\n",
       "taf1       0.800188\n",
       "hsf1       0.795786\n",
       "gata3      0.795238\n",
       "lyl1       0.794817\n",
       "kdm1a      0.792298\n",
       "zbtb17     0.788927\n",
       "ezh2       0.788191\n",
       "rnf2       0.788014\n",
       "rest       0.787572\n",
       "brca1      0.787291\n",
       "smad4      0.785382\n",
       "ubtf       0.781261\n",
       "lef1       0.781023\n",
       "zbtb33     0.778925\n",
       "Name: ep300, dtype: float64"
      ]
     },
     "execution_count": 29,
     "metadata": {},
     "output_type": "execute_result"
    }
   ],
   "source": [
    "# we select top 50 factors with the highest cosine similarity with EP300 \n",
    "with h5py.File(os.path.join(\"tmp_starr\",\"starr_emb.h5\"), \"r\") as f:\n",
    "    emb_all_wt = f[\"wt\"][:,...].mean(axis = 0)\n",
    "    ser_sim_with_ep300 = pd.DataFrame(data = cosine_similarity(emb_all_wt), columns= list_factors, index = list_factors)[\"ep300\"]\n",
    "ser_sim_with_ep300 = ser_sim_with_ep300.loc[~ser_sim_with_ep300.index.isin([\"ep300\",\"crebbp\"])].sort_values(ascending = False).head(50)\n",
    "ser_sim_with_ep300"
   ]
  },
  {
   "cell_type": "code",
   "execution_count": 30,
   "metadata": {},
   "outputs": [
    {
     "name": "stderr",
     "output_type": "stream",
     "text": [
      "/tmp/ipykernel_1705212/139458382.py:4: MatplotlibDeprecationWarning: The 'labels' parameter of boxplot() has been renamed 'tick_labels' since Matplotlib 3.9; support for the old name will be dropped in 3.11.\n",
      "  plt.boxplot([v1, v2], labels = [\"Related\", \"Others\"], showfliers=False)\n"
     ]
    },
    {
     "data": {
      "image/png": "[encoded data removed]",
      "text/plain": [
       "<Figure size 640x480 with 1 Axes>"
      ]
     },
     "metadata": {},
     "output_type": "display_data"
    },
    {
     "data": {
      "text/plain": [
       "MannwhitneyuResult(statistic=39529.0, pvalue=4.8717532533893065e-16)"
      ]
     },
     "execution_count": 30,
     "metadata": {},
     "output_type": "execute_result"
    }
   ],
   "source": [
    "# Boxplot of embedding shifts, showing larger shift for EP300/CREBBP associated regulators\n",
    "v1 = df_shift.loc[ser_sim_with_ep300.index,\"decreased\"]\n",
    "v2 = df_shift.loc[~df_shift.index.isin(ser_sim_with_ep300.index),\"decreased\"]\n",
    "plt.boxplot([v1, v2], labels = [\"Related\", \"Others\"], showfliers=False)\n",
    "plt.show()\n",
    "scipy.stats.mannwhitneyu(v1, v2)"
   ]
  },
  {
   "cell_type": "code",
   "execution_count": null,
   "metadata": {},
   "outputs": [],
   "source": []
  }
 ],
 "metadata": {
  "kernelspec": {
   "display_name": "base",
   "language": "python",
   "name": "python3"
  },
  "language_info": {
   "codemirror_mode": {
    "name": "ipython",
    "version": 3
   },
   "file_extension": ".py",
   "mimetype": "text/x-python",
   "name": "python",
   "nbconvert_exporter": "python",
   "pygments_lexer": "ipython3",
   "version": "3.10.12"
  }
 },
 "nbformat": 4,
 "nbformat_minor": 2
}
